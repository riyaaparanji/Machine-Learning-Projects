{
 "cells": [
  {
   "cell_type": "code",
   "execution_count": null,
   "metadata": {},
   "outputs": [],
   "source": [
    "\n",
    "import math\n",
    "import numpy as np\n",
    "import pandas as pd\n",
    "import seaborn as sb\n",
    "import matplotlib.pyplot as plt\n",
    "\n",
    "ogtest = pd.read_csv(\"Freyja_Pumpkins.csv\")\n",
    "ogtrain = pd.read_csv(\"Gotem Pumpkins.csv\")\n",
    "\n",
    "test = ogtest.copy()\n",
    "train = ogtrain.copy()\n",
    "\n",
    "def bin(type):\n",
    "    if type == \"Çerçevelik\":\n",
    "        return 1\n",
    "    else: \n",
    "        return 0\n",
    "X_train = np.array([list(value) for value in train.drop(\"Class\", axis=1).values]) \n",
    "\n",
    "Y_train = np.array([val for val in map(bin, list(train['Class']))])\n",
    "testdata= np.array([list(value) for value in test.drop(\"Class\", axis=1).values]) \n",
    "testclass = np.array([val for val in map(bin, list(test['Class']))])\n"
   ]
  },
  {
   "cell_type": "markdown",
   "metadata": {},
   "source": [
    "DEFINING FUNCTIONS FOR SIGMOID, LOGISTIC LOSS FUNCTION, GRADIENT DESCENT AMD Z SCORE NORMALISATION,"
   ]
  },
  {
   "cell_type": "code",
   "execution_count": 57,
   "metadata": {},
   "outputs": [],
   "source": [
    "def sigmoid(z):\n",
    "\n",
    "    g = 1/(1+np.exp(-z))\n",
    "   \n",
    "    return g\n",
    "\n",
    "\n",
    "\n",
    "def compute_cost_logistic(X, y, w, b):\n",
    "    m,n= X.shape\n",
    "    total_cost = 0.\n",
    "    for i in range(m):\n",
    "        z = np.dot(X[i],w) + b\n",
    "        f_wb_i = sigmoid(z)\n",
    "        loss =  -y[i]*np.log(f_wb_i) - (1-y[i])*np.log(1-f_wb_i)\n",
    "        total_cost+=loss    \n",
    "    total_cost /= m\n",
    "    return total_cost\n",
    "\n",
    "def compute_gradient_logistic(X, y, w, b): \n",
    "   \n",
    "    m,n = X.shape\n",
    "    dj_dw = np.zeros((n,))                          \n",
    "    dj_db = 0.\n",
    "\n",
    "    for i in range(m):\n",
    "        z=np.dot(X[i],w)+b\n",
    "        f_wb_i = sigmoid(z)         \n",
    "        err_i = f_wb_i - y[i]                       \n",
    "        for j in range(n):\n",
    "            dj_dw[j] = dj_dw[j] + err_i * X[i,j]      \n",
    "        dj_db = dj_db + err_i\n",
    "    dj_dw = dj_dw/m                                   \n",
    "    dj_db = dj_db/m                                   \n",
    "        \n",
    "    return dj_db, dj_dw\n",
    "def gradient_descent(X, y, w_in, b_in, alpha, num_iters): \n",
    "\n",
    "    J_history = []\n",
    "    w = w_in.copy()  \n",
    "    b = b_in\n",
    "    \n",
    "    for i in range(num_iters):\n",
    "    \n",
    "        dj_db, dj_dw = compute_gradient_logistic(X, y, w, b)   \n",
    "        w = w - alpha * dj_dw               \n",
    "        b = b - alpha * dj_db               \n",
    "        if i<100000:      # prevent resource exhaustion \n",
    "            J_history.append( compute_cost_logistic(X, y, w, b) )\n",
    "\n",
    "        if i% math.ceil(num_iters / 10) == 0:\n",
    "            print(f\"Iteration {i:4d}: Cost {J_history[-1]}   \")\n",
    "        \n",
    "    return w, b, J_history \n",
    "\n",
    "def znormal(X):\n",
    "    mean    = np.mean(X, axis=0)                 \n",
    "    stdev  = np.std(X, axis=0)+0.00001                 \n",
    "    X_norm = (X - mean) / stdev \n",
    "    return (X_norm, mean, stdev)"
   ]
  },
  {
   "cell_type": "markdown",
   "metadata": {},
   "source": [
    "RUNNING THROUGH REQUIRED NUMBER OF ITERATIONS TO COST FUNCTION"
   ]
  },
  {
   "cell_type": "code",
   "execution_count": 58,
   "metadata": {},
   "outputs": [
    {
     "name": "stdout",
     "output_type": "stream",
     "text": [
      "Iteration    0: Cost 0.6602238443152165   \n",
      "Iteration 1000: Cost 0.3250058919748191   \n",
      "Iteration 2000: Cost 0.32410117684397327   \n",
      "Iteration 3000: Cost 0.32328121262770104   \n",
      "Iteration 4000: Cost 0.32251498927033545   \n",
      "Iteration 5000: Cost 0.321789993097854   \n",
      "Iteration 6000: Cost 0.32109856492999156   \n",
      "Iteration 7000: Cost 0.320435854031846   \n",
      "Iteration 8000: Cost 0.3197986558211524   \n",
      "Iteration 9000: Cost 0.3191847414699596   \n"
     ]
    }
   ],
   "source": [
    "w = np.zeros_like(X_train[0])\n",
    "b  = 0.\n",
    "alpha = 0.05\n",
    "iterations = 10000\n",
    "w_i, b_i, J_hist = gradient_descent(znormal(X_train)[0],Y_train, w, b, alpha, iterations)\n"
   ]
  },
  {
   "cell_type": "markdown",
   "metadata": {},
   "source": [
    "RUNNING THE LOGISTIC REGRESSION MODEL ON TEST DATASET AND ARRIVING AT THE PREDICTIONS"
   ]
  },
  {
   "cell_type": "code",
   "execution_count": 73,
   "metadata": {},
   "outputs": [],
   "source": [
    "\n",
    "normalizedtestdata=znormal(testdata)\n",
    "pred = sigmoid(np.dot(normalizedtestdata[0], w_i) + b_i)"
   ]
  },
  {
   "cell_type": "markdown",
   "metadata": {},
   "source": [
    "CALCULATING CONFUSION MATRIX PARAMETERS TO CALCULATE ACCURACY OF THE MODEL"
   ]
  },
  {
   "cell_type": "code",
   "execution_count": 93,
   "metadata": {},
   "outputs": [
    {
     "name": "stdout",
     "output_type": "stream",
     "text": [
      "accuracy of the model is: 88.4%\n"
     ]
    }
   ],
   "source": [
    "binpred = [1 if value >= 0.5 else 0 for value in pred]\n",
    "TruePos = 0\n",
    "TrueNeg = 0\n",
    "FalsePos = 0\n",
    "FalseNeg =  0\n",
    "for index, predicted in enumerate(binpred):\n",
    "    actual = testclass[index]\n",
    "    if predicted > actual:\n",
    "        FalsePos += 1\n",
    "    elif actual> predicted:\n",
    "        FalseNeg += 1\n",
    "    elif actual  == predicted:\n",
    "        if actual == 0: \n",
    "            TrueNeg += 1 \n",
    "        else: \n",
    "            TruePos += 1\n",
    "print(f\"accuracy of the model is: {(TruePos + TrueNeg)*100/len(binpred)}%\")"
   ]
  }
 ],
 "metadata": {
  "kernelspec": {
   "display_name": "Python 3",
   "language": "python",
   "name": "python3"
  },
  "language_info": {
   "codemirror_mode": {
    "name": "ipython",
    "version": 3
   },
   "file_extension": ".py",
   "mimetype": "text/x-python",
   "name": "python",
   "nbconvert_exporter": "python",
   "pygments_lexer": "ipython3",
   "version": "3.10.6"
  }
 },
 "nbformat": 4,
 "nbformat_minor": 2
}
